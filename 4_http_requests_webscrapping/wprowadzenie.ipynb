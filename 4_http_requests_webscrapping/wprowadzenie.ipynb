{
 "cells": [
  {
   "cell_type": "markdown",
   "source": [
    "# Zapytania HTTP i REST API - wprowadzenie\n",
    "\n",
    "Jednym ze sposobów na komunikację z siecią/serwerami z poziomu skryptu napisanego w Pythonie\n",
    "jest wykonywanie zapytań HTTP. Pozwala nam to zarówno na pobieranie danych z serwerów jak też na ich modyfikację\n",
    "i dodawanie nowych informacji.\n",
    "\n",
    "Wyróżniamy kilka podstawowych rodzajów zapytań HTTP:\n",
    "- **GET** - pobranie danych\n",
    "- **POST** - dodanie nowych danych\n",
    "- **PUT**- aktualizacja istniejących danych\n",
    "- **DELETE** - usunięcie danych\n",
    "\n",
    "Współcześnie komunikacja z serwerami odbywa się za pośrednictwem tzw. **REST API**.\n",
    "W dużym skrócie wygląda to w taki sposób, że wysyłamy zapytanie do serwera, a w odpowiedzi otrzymujemy\n",
    "obiekt typu **JSON**.\n",
    "\n",
    "Format **JSON** jest powszechnie wykorzystywany i w większości zastąpił format XML.\n",
    "W formacie JSON obiekty przypominają obiekty w językach programowania.\n",
    "\n",
    "Do wykonywania zapytań HTTP skorzystamy z biblioteki *requests*:\n",
    "\n",
    "```pip install requests```"
   ],
   "metadata": {
    "collapsed": false,
    "pycharm": {
     "name": "#%% md\n"
    }
   }
  },
  {
   "cell_type": "markdown",
   "source": [
    "Najpierw importujemy bibliotekę"
   ],
   "metadata": {
    "collapsed": false,
    "pycharm": {
     "name": "#%% md\n"
    }
   }
  },
  {
   "cell_type": "code",
   "execution_count": 29,
   "metadata": {
    "collapsed": true
   },
   "outputs": [],
   "source": [
    "import requests"
   ]
  },
  {
   "cell_type": "markdown",
   "source": [
    "Teraz możemy wykonać proste zapytanie do serwera i zapisać odpowiedź w zmiennej *response*.\n",
    "\n",
    "Dla przykładu skorzystamy ze strony http://api.open-notify.org która udostępnia API pozwalające pobrać\n",
    "informacje o osobach przebywających obecnie w kosmosie, a także o położeniu ISS."
   ],
   "metadata": {
    "collapsed": false,
    "pycharm": {
     "name": "#%% md\n"
    }
   }
  },
  {
   "cell_type": "code",
   "execution_count": 30,
   "outputs": [],
   "source": [
    "response = requests.get(\"http://api.open-notify.org/astros.json\")"
   ],
   "metadata": {
    "collapsed": false,
    "pycharm": {
     "name": "#%%\n"
    }
   }
  },
  {
   "cell_type": "markdown",
   "source": [
    "Odpowiedź z serwera składa się z kilku składowych. Jedną z nich jest *status code*."
   ],
   "metadata": {
    "collapsed": false,
    "pycharm": {
     "name": "#%% md\n"
    }
   }
  },
  {
   "cell_type": "code",
   "execution_count": 31,
   "outputs": [
    {
     "name": "stdout",
     "output_type": "stream",
     "text": [
      "200\n"
     ]
    }
   ],
   "source": [
    "print(response.status_code)"
   ],
   "metadata": {
    "collapsed": false,
    "pycharm": {
     "name": "#%%\n"
    }
   }
  },
  {
   "cell_type": "markdown",
   "source": [
    "Kod ten informuje nas o statusie zwróconym przez nasze zapytanie. Kod **200** oznacza, że zapytanie\n",
    "przebiegło pomyślnie.\n",
    "\n",
    "Dla przykładu spróbujmy wykonać zapytanie pod nieistniejący adres."
   ],
   "metadata": {
    "collapsed": false
   }
  },
  {
   "cell_type": "code",
   "execution_count": 32,
   "outputs": [
    {
     "name": "stdout",
     "output_type": "stream",
     "text": [
      "404\n"
     ]
    }
   ],
   "source": [
    "response = requests.get(\"http://api.open-notify.org/non-existing\")\n",
    "print(response.status_code)"
   ],
   "metadata": {
    "collapsed": false,
    "pycharm": {
     "name": "#%%\n"
    }
   }
  },
  {
   "cell_type": "markdown",
   "source": [
    "Otrzymaliśmy kod **404**. Oznacza to, że nie znaleziono na serwerze żądanego zasobu.\n",
    "\n",
    "Wyróżniamy kilka grup kodów odpowiedzi:\n",
    "- **1xx** - informacyjne\n",
    "- **2xx** - sukces\n",
    "- **3xx** - przekierowanie\n",
    "- **4xx** - błąd klienta\n",
    "- **5xx** - błąd serwera\n",
    "\n",
    "Więcej informacji: https://pl.wikipedia.org/wiki/Kod_odpowiedzi_HTTP"
   ],
   "metadata": {
    "collapsed": false,
    "pycharm": {
     "name": "#%% md\n"
    }
   }
  },
  {
   "cell_type": "markdown",
   "source": [
    "Powtórzmy zapytanie i wypiszmy jego odpowiedź JSON."
   ],
   "metadata": {
    "collapsed": false,
    "pycharm": {
     "name": "#%% md\n"
    }
   }
  },
  {
   "cell_type": "code",
   "execution_count": 33,
   "outputs": [
    {
     "name": "stdout",
     "output_type": "stream",
     "text": [
      "{'message': 'success', 'number': 7, 'people': [{'craft': 'ISS', 'name': 'Sergey Ryzhikov'}, {'craft': 'ISS', 'name': 'Kate Rubins'}, {'craft': 'ISS', 'name': 'Sergey Kud-Sverchkov'}, {'craft': 'ISS', 'name': 'Mike Hopkins'}, {'craft': 'ISS', 'name': 'Victor Glover'}, {'craft': 'ISS', 'name': 'Shannon Walker'}, {'craft': 'ISS', 'name': 'Soichi Noguchi'}]}\n"
     ]
    }
   ],
   "source": [
    "response = requests.get(\"http://api.open-notify.org/astros.json\")\n",
    "print(response.json())"
   ],
   "metadata": {
    "collapsed": false,
    "pycharm": {
     "name": "#%%\n"
    }
   }
  },
  {
   "cell_type": "markdown",
   "source": [
    "Dostaliśmy bogatą odpowiedź od serwera - listę osób przebywających w kosmosie.\n",
    "Chcielibyśmy je wyświetlić w czytelniejszej formie. Do tego celu wykorzystamy wbudowaną bibliotekę **json**."
   ],
   "metadata": {
    "collapsed": false,
    "pycharm": {
     "name": "#%% md\n"
    }
   }
  },
  {
   "cell_type": "code",
   "execution_count": 34,
   "outputs": [],
   "source": [
    "import json\n",
    "\n",
    "def jprint(obj):\n",
    "    text = json.dumps(obj, sort_keys=True, indent=4)\n",
    "    print(text)"
   ],
   "metadata": {
    "collapsed": false,
    "pycharm": {
     "name": "#%%\n"
    }
   }
  },
  {
   "cell_type": "markdown",
   "source": [
    "Teraz możemy użyć naszej funkcji do czytelnego wyświetlenia otrzymanej odpowiedzi."
   ],
   "metadata": {
    "collapsed": false,
    "pycharm": {
     "name": "#%% md\n"
    }
   }
  },
  {
   "cell_type": "code",
   "execution_count": 35,
   "outputs": [
    {
     "name": "stdout",
     "output_type": "stream",
     "text": [
      "{\n",
      "    \"message\": \"success\",\n",
      "    \"number\": 7,\n",
      "    \"people\": [\n",
      "        {\n",
      "            \"craft\": \"ISS\",\n",
      "            \"name\": \"Sergey Ryzhikov\"\n",
      "        },\n",
      "        {\n",
      "            \"craft\": \"ISS\",\n",
      "            \"name\": \"Kate Rubins\"\n",
      "        },\n",
      "        {\n",
      "            \"craft\": \"ISS\",\n",
      "            \"name\": \"Sergey Kud-Sverchkov\"\n",
      "        },\n",
      "        {\n",
      "            \"craft\": \"ISS\",\n",
      "            \"name\": \"Mike Hopkins\"\n",
      "        },\n",
      "        {\n",
      "            \"craft\": \"ISS\",\n",
      "            \"name\": \"Victor Glover\"\n",
      "        },\n",
      "        {\n",
      "            \"craft\": \"ISS\",\n",
      "            \"name\": \"Shannon Walker\"\n",
      "        },\n",
      "        {\n",
      "            \"craft\": \"ISS\",\n",
      "            \"name\": \"Soichi Noguchi\"\n",
      "        }\n",
      "    ]\n",
      "}\n"
     ]
    }
   ],
   "source": [
    "jprint(response.json())"
   ],
   "metadata": {
    "collapsed": false,
    "pycharm": {
     "name": "#%%\n"
    }
   }
  },
  {
   "cell_type": "markdown",
   "source": [
    "Jak można zauważyć, odpowiedź jest w formie słownika. Możemy łatwo przeiterować po wszystkich osobach\n",
    "przebywających w kosmosie."
   ],
   "metadata": {
    "collapsed": false,
    "pycharm": {
     "name": "#%% md\n"
    }
   }
  },
  {
   "cell_type": "code",
   "execution_count": 36,
   "outputs": [
    {
     "name": "stdout",
     "output_type": "stream",
     "text": [
      "Sergey Ryzhikov\n",
      "Kate Rubins\n",
      "Sergey Kud-Sverchkov\n",
      "Mike Hopkins\n",
      "Victor Glover\n",
      "Shannon Walker\n",
      "Soichi Noguchi\n"
     ]
    }
   ],
   "source": [
    "people = response.json()[\"people\"]\n",
    "for person in people:\n",
    "    print(person[\"name\"])"
   ],
   "metadata": {
    "collapsed": false,
    "pycharm": {
     "name": "#%%\n"
    }
   }
  },
  {
   "cell_type": "markdown",
   "source": [
    "Skorzystajmy teraz z drugiej funkcjonalności tego API - pozycji ISS.\n",
    "Usługa pozwala nam dowiedzieć się, kiedy ISS będzie przelatywać nad zadaną pozycją.\n",
    "W tym celu musimy przekazać odpowiednie parametry do zapytania - długość i szerokość geograficzną.\n",
    "Tworzymy je w formacie zgodnym z formatem JSON."
   ],
   "metadata": {
    "collapsed": false,
    "pycharm": {
     "name": "#%% md\n"
    }
   }
  },
  {
   "cell_type": "code",
   "execution_count": 37,
   "outputs": [],
   "source": [
    "parameters = {\n",
    "    \"lat\": 53.013693144046606,\n",
    "    \"lon\": 18.59777225190062\n",
    "}"
   ],
   "metadata": {
    "collapsed": false,
    "pycharm": {
     "name": "#%%\n"
    }
   }
  },
  {
   "cell_type": "markdown",
   "source": [
    "Przekazujemy parametry do zapytania."
   ],
   "metadata": {
    "collapsed": false,
    "pycharm": {
     "name": "#%% md\n"
    }
   }
  },
  {
   "cell_type": "code",
   "execution_count": 38,
   "outputs": [
    {
     "name": "stdout",
     "output_type": "stream",
     "text": [
      "{\n",
      "    \"message\": \"success\",\n",
      "    \"request\": {\n",
      "        \"altitude\": 100,\n",
      "        \"datetime\": 1607156326,\n",
      "        \"latitude\": 53.013693144046606,\n",
      "        \"longitude\": 18.59777225190062,\n",
      "        \"passes\": 5\n",
      "    },\n",
      "    \"response\": [\n",
      "        {\n",
      "            \"duration\": 340,\n",
      "            \"risetime\": 1607162805\n",
      "        },\n",
      "        {\n",
      "            \"duration\": 600,\n",
      "            \"risetime\": 1607168420\n",
      "        },\n",
      "        {\n",
      "            \"duration\": 650,\n",
      "            \"risetime\": 1607174177\n",
      "        },\n",
      "        {\n",
      "            \"duration\": 653,\n",
      "            \"risetime\": 1607179976\n",
      "        },\n",
      "        {\n",
      "            \"duration\": 629,\n",
      "            \"risetime\": 1607185779\n",
      "        }\n",
      "    ]\n",
      "}\n"
     ]
    }
   ],
   "source": [
    "response = requests.get(\"http://api.open-notify.org/iss-pass.json\", params=parameters)\n",
    "jprint(response.json())"
   ],
   "metadata": {
    "collapsed": false,
    "pycharm": {
     "name": "#%%\n"
    }
   }
  },
  {
   "cell_type": "markdown",
   "source": [
    "Czasy, jakie otrzymaliśmy w odpowiedzi zapisane są jako tzw. *timestamp* ablo *epoch*.\n",
    "Możemy je łatwo przetworzyć na czytelny dla nas format korzystając z biblioteki datetime."
   ],
   "metadata": {
    "collapsed": false,
    "pycharm": {
     "name": "#%% md\n"
    }
   }
  },
  {
   "cell_type": "code",
   "execution_count": 40,
   "outputs": [
    {
     "name": "stdout",
     "output_type": "stream",
     "text": [
      "2020-12-05 11:06:45\n",
      "2020-12-05 12:40:20\n",
      "2020-12-05 14:16:17\n",
      "2020-12-05 15:52:56\n",
      "2020-12-05 17:29:39\n"
     ]
    }
   ],
   "source": [
    "from datetime import datetime\n",
    "for data in response.json()[\"response\"]:\n",
    "    time = datetime.fromtimestamp(data[\"risetime\"])\n",
    "    print(time)"
   ],
   "metadata": {
    "collapsed": false,
    "pycharm": {
     "name": "#%%\n"
    }
   }
  }
 ],
 "metadata": {
  "kernelspec": {
   "display_name": "Python 3",
   "language": "python",
   "name": "python3"
  },
  "language_info": {
   "codemirror_mode": {
    "name": "ipython",
    "version": 2
   },
   "file_extension": ".py",
   "mimetype": "text/x-python",
   "name": "python",
   "nbconvert_exporter": "python",
   "pygments_lexer": "ipython2",
   "version": "2.7.6"
  }
 },
 "nbformat": 4,
 "nbformat_minor": 0
}