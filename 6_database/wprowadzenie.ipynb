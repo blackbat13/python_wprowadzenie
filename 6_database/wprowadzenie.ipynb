{
 "cells": [
  {
   "cell_type": "markdown",
   "metadata": {
    "collapsed": true,
    "pycharm": {
     "name": "#%% md\n"
    }
   },
   "source": [
    "# Bazy danych: wprowadzenie\n",
    "\n",
    "Korzystając z języka Python możemy połączyć się z wieloma różnymi bazami danych,\n",
    "takimi jak SQLite, MySQL, Oracle, Sybase, PostgreSQL itp.\n",
    "\n",
    "Aby połączyć się z konkretną bazą danych, potrzebne będą odpowiednie sterowniki\n",
    "i biblioteka.\n",
    "\n",
    "Najłatwiej jest wykorzystać plikową bazę danych SQLite i na tym przykładzie będziemy pracować.\n",
    "\n",
    "Najpierw importujemy odpowiednią bibliotekę:"
   ]
  },
  {
   "cell_type": "code",
   "source": [
    "import sqlite3"
   ],
   "metadata": {
    "collapsed": false,
    "pycharm": {
     "name": "#%%\n"
    }
   },
   "execution_count": 17,
   "outputs": []
  },
  {
   "cell_type": "markdown",
   "source": [
    "Teraz tworzymy połączanie z bazą danych.\n",
    "Jeżeli plik bazy danych nie istnieje, to zostanie on utworzony."
   ],
   "metadata": {
    "collapsed": false
   }
  },
  {
   "cell_type": "code",
   "execution_count": 18,
   "outputs": [],
   "source": [
    "db_con = sqlite3.connect(\"database.db\")"
   ],
   "metadata": {
    "collapsed": false,
    "pycharm": {
     "name": "#%%\n"
    }
   }
  },
  {
   "cell_type": "markdown",
   "source": [
    "Jeżeli jako nazwę bazy danych podamy specjalną nazwę **:memory:**\n",
    "to baza danych zostanie zapisana w pamięci RAM.\n",
    "\n",
    "Na bazie danych możemy wykonywać standardowe zapytania SQL.\n",
    "Dla przykładu stwórzmy tabelę Users."
   ],
   "metadata": {
    "collapsed": false,
    "pycharm": {
     "name": "#%% md\n"
    }
   }
  },
  {
   "cell_type": "code",
   "execution_count": 19,
   "outputs": [
    {
     "data": {
      "text/plain": "<sqlite3.Cursor at 0x7e240e0>"
     },
     "execution_count": 19,
     "metadata": {},
     "output_type": "execute_result"
    }
   ],
   "source": [
    "db_con.execute(\"\"\"\n",
    "CREATE TABLE USERS\n",
    "(ID INT PRIMARY KEY,\n",
    "FIRST_NAME TEXT NOT NULL,\n",
    "SURNAME TEXT NOT NULL,\n",
    "AGE INT);\n",
    "\"\"\")"
   ],
   "metadata": {
    "collapsed": false,
    "pycharm": {
     "name": "#%%\n"
    }
   }
  },
  {
   "cell_type": "markdown",
   "source": [
    "Teraz dodajmy kilku nowych użytkowników."
   ],
   "metadata": {
    "collapsed": false,
    "pycharm": {
     "name": "#%% md\n"
    }
   }
  },
  {
   "cell_type": "code",
   "execution_count": 20,
   "outputs": [],
   "source": [
    "db_con.execute(\"INSERT INTO USERS (ID, FIRST_NAME, SURNAME, AGE) VALUES (1, 'JAN', 'KOWALSKI', 35)\")\n",
    "db_con.execute(\"INSERT INTO USERS (ID, FIRST_NAME, SURNAME, AGE) VALUES (2, 'JAN', 'ALEKSANDROWSKI', 25)\")\n",
    "db_con.execute(\"INSERT INTO USERS (ID, FIRST_NAME, SURNAME, AGE) VALUES (3, 'STEFAN', 'KOWALSKI', 38)\")\n",
    "db_con.execute(\"INSERT INTO USERS (ID, FIRST_NAME, SURNAME) VALUES (4, 'MACIEJ', 'KOWALEWSKI')\")\n",
    "db_con.commit()"
   ],
   "metadata": {
    "collapsed": false,
    "pycharm": {
     "name": "#%%\n"
    }
   }
  },
  {
   "cell_type": "markdown",
   "source": [
    "Teraz wypiszmy wszystkich użytkowników, którzy mają co najmniej 30 lat."
   ],
   "metadata": {
    "collapsed": false,
    "pycharm": {
     "name": "#%% md\n"
    }
   }
  },
  {
   "cell_type": "code",
   "execution_count": 21,
   "outputs": [
    {
     "name": "stdout",
     "output_type": "stream",
     "text": [
      "ID: 1, FIRST_NAME: JAN, SURNAME: KOWALSKI, AGE: 35\n",
      "ID: 3, FIRST_NAME: STEFAN, SURNAME: KOWALSKI, AGE: 38\n"
     ]
    }
   ],
   "source": [
    "cursor = db_con.execute(\"SELECT * FROM USERS WHERE AGE >= 30\")\n",
    "for row in cursor:\n",
    "    print(f\"ID: {row[0]}, FIRST_NAME: {row[1]}, SURNAME: {row[2]}, AGE: {row[3]}\")"
   ],
   "metadata": {
    "collapsed": false,
    "pycharm": {
     "name": "#%%\n"
    }
   }
  },
  {
   "cell_type": "markdown",
   "source": [
    "Należy pamiętać o zamknięciu połączenia z bazą danych."
   ],
   "metadata": {
    "collapsed": false,
    "pycharm": {
     "name": "#%% md\n"
    }
   }
  },
  {
   "cell_type": "code",
   "execution_count": 22,
   "outputs": [],
   "source": [
    "db_con.close()"
   ],
   "metadata": {
    "collapsed": false,
    "pycharm": {
     "name": "#%%\n"
    }
   }
  }
 ],
 "metadata": {
  "kernelspec": {
   "display_name": "Python 3",
   "language": "python",
   "name": "python3"
  },
  "language_info": {
   "codemirror_mode": {
    "name": "ipython",
    "version": 2
   },
   "file_extension": ".py",
   "mimetype": "text/x-python",
   "name": "python",
   "nbconvert_exporter": "python",
   "pygments_lexer": "ipython2",
   "version": "2.7.6"
  }
 },
 "nbformat": 4,
 "nbformat_minor": 0
}