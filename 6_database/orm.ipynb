{
 "cells": [
  {
   "cell_type": "markdown",
   "metadata": {
    "collapsed": true,
    "pycharm": {
     "name": "#%% md\n"
    }
   },
   "source": [
    "Praca z bazą danych z poziomu kodu w języku Python z wykorzystaniem jedynie czystego języka SQL\n",
    "może być problematyczna w przypadku większych projektów. Między innymi dlatego warto korzystać\n",
    "z ułatwiających życie bibliotek. Jedną z takich bibliotek jest **SQL Alchemy**.\n",
    "\n",
    "Na początek instalujemy bilbliotekę poleceniem:\n",
    "\n",
    "```pip install sqlalchemy```\n",
    "\n",
    "Teraz możemy ją zaimportować."
   ]
  },
  {
   "cell_type": "code",
   "execution_count": 1,
   "outputs": [],
   "source": [
    "import sqlalchemy"
   ],
   "metadata": {
    "collapsed": false,
    "pycharm": {
     "name": "#%%\n"
    }
   }
  },
  {
   "cell_type": "markdown",
   "source": [
    "Dla ułatwienia skorzystamy z przykładowej bazy danych sqlite, którą można znaleźć pod adresem\n",
    "https://www.sqlitetutorial.net/sqlite-sample-database/\n",
    "\n",
    "Tworzymy połączenie z bazą danych, pobieramy jej metadane i informacje o jednej z tabel."
   ],
   "metadata": {
    "collapsed": false,
    "pycharm": {
     "name": "#%% md\n"
    }
   }
  },
  {
   "cell_type": "code",
   "execution_count": 44,
   "outputs": [],
   "source": [
    "engine = sqlalchemy.create_engine('sqlite:///chinook.db')\n",
    "connection = engine.connect()\n",
    "metadata = sqlalchemy.MetaData()\n",
    "customers = sqlalchemy.Table('customers', metadata, autoload=True, autoload_with=engine)\n",
    "tracks = sqlalchemy.Table('tracks', metadata, autoload=True, autoload_with=engine)\n",
    "albums = sqlalchemy.Table('albums', metadata, autoload=True, autoload_with=engine)"
   ],
   "metadata": {
    "collapsed": false,
    "pycharm": {
     "name": "#%%\n"
    }
   }
  },
  {
   "cell_type": "markdown",
   "source": [
    "Teraz sprawdźmy, jakie kolumny znajdują się w tabeli *customers*,"
   ],
   "metadata": {
    "collapsed": false,
    "pycharm": {
     "name": "#%% md\n"
    }
   }
  },
  {
   "cell_type": "code",
   "execution_count": 3,
   "outputs": [
    {
     "name": "stdout",
     "output_type": "stream",
     "text": [
      "['CustomerId', 'FirstName', 'LastName', 'Company', 'Address', 'City', 'State', 'Country', 'PostalCode', 'Phone', 'Fax', 'Email', 'SupportRepId']\n"
     ]
    }
   ],
   "source": [
    "print(customers.columns.keys())"
   ],
   "metadata": {
    "collapsed": false,
    "pycharm": {
     "name": "#%%\n"
    }
   }
  },
  {
   "cell_type": "markdown",
   "source": [
    "Możemy także wypisać bardziej szczegółowe dane na temat tej tabeli."
   ],
   "metadata": {
    "collapsed": false,
    "pycharm": {
     "name": "#%% md\n"
    }
   }
  },
  {
   "cell_type": "code",
   "execution_count": 6,
   "outputs": [
    {
     "name": "stdout",
     "output_type": "stream",
     "text": [
      "Table('customers', MetaData(bind=None), Column('CustomerId', INTEGER(), table=<customers>, primary_key=True, nullable=False), Column('FirstName', NVARCHAR(length=40), table=<customers>, nullable=False), Column('LastName', NVARCHAR(length=20), table=<customers>, nullable=False), Column('Company', NVARCHAR(length=80), table=<customers>), Column('Address', NVARCHAR(length=70), table=<customers>), Column('City', NVARCHAR(length=40), table=<customers>), Column('State', NVARCHAR(length=40), table=<customers>), Column('Country', NVARCHAR(length=40), table=<customers>), Column('PostalCode', NVARCHAR(length=10), table=<customers>), Column('Phone', NVARCHAR(length=24), table=<customers>), Column('Fax', NVARCHAR(length=24), table=<customers>), Column('Email', NVARCHAR(length=60), table=<customers>, nullable=False), Column('SupportRepId', INTEGER(), ForeignKey('employees.EmployeeId'), table=<customers>), schema=None)\n"
     ]
    }
   ],
   "source": [
    "print(repr(metadata.tables['customers']))"
   ],
   "metadata": {
    "collapsed": false,
    "pycharm": {
     "name": "#%%\n"
    }
   }
  },
  {
   "cell_type": "markdown",
   "source": [
    "Oczywiście na bazie danych przede wszystkim chcemy wykonywać różnego rodzaju zapytania.\n",
    "\n",
    "Żeby pobrać wszystkie dane z tabeli customers w języku SQL napisalibyśmy:\n",
    "\n",
    "```SELECT * FROM Customers;```\n",
    "\n",
    "Korzystając z *sqlalchemy* wystarczy utworzyć zapytanie:"
   ],
   "metadata": {
    "collapsed": false,
    "pycharm": {
     "name": "#%% md\n"
    }
   }
  },
  {
   "cell_type": "code",
   "execution_count": 7,
   "outputs": [],
   "source": [
    "query = sqlalchemy.select([customers])"
   ],
   "metadata": {
    "collapsed": false,
    "pycharm": {
     "name": "#%%\n"
    }
   }
  },
  {
   "cell_type": "markdown",
   "source": [
    "Teraz wykonujemy je na bazie danych i wyświetlamy kilka pierwszych wierszy."
   ],
   "metadata": {
    "collapsed": false,
    "pycharm": {
     "name": "#%% md\n"
    }
   }
  },
  {
   "cell_type": "code",
   "execution_count": 12,
   "outputs": [
    {
     "name": "stdout",
     "output_type": "stream",
     "text": [
      "[(1, 'Luís', 'Gonçalves', 'Embraer - Empresa Brasileira de Aeronáutica S.A.', 'Av. Brigadeiro Faria Lima, 2170', 'São José dos Campos', 'SP', 'Brazil', '12227-000', '+55 (12) 3923-5555', '+55 (12) 3923-5566', 'luisg@embraer.com.br', 3), (2, 'Leonie', 'Köhler', None, 'Theodor-Heuss-Straße 34', 'Stuttgart', None, 'Germany', '70174', '+49 0711 2842222', None, 'leonekohler@surfeu.de', 5), (3, 'François', 'Tremblay', None, '1498 rue Bélanger', 'Montréal', 'QC', 'Canada', 'H2G 1A7', '+1 (514) 721-4711', None, 'ftremblay@gmail.com', 3), (4, 'Bjørn', 'Hansen', None, 'Ullevålsveien 14', 'Oslo', None, 'Norway', '0171', '+47 22 44 22 22', None, 'bjorn.hansen@yahoo.no', 4), (5, 'František', 'Wichterlová', 'JetBrains s.r.o.', 'Klanova 9/506', 'Prague', None, 'Czech Republic', '14700', '+420 2 4172 5555', '+420 2 4172 5555', 'frantisekw@jetbrains.com', 4)]\n"
     ]
    }
   ],
   "source": [
    "result_proxy = connection.execute(query)\n",
    "result_set = result_proxy.fetchall()\n",
    "print(result_set[:5])\n",
    "result_proxy.close()"
   ],
   "metadata": {
    "collapsed": false,
    "pycharm": {
     "name": "#%%\n"
    }
   }
  },
  {
   "cell_type": "markdown",
   "source": [
    "Gdy mamy do czynienia z dużymi zbiorami danych, pobranie całego wyniku zapytania naraz raczej nie będzie dobrym pomysłem.\n",
    "By sobie poradzić z tym problemem, możemy dane pobierać partiami i na nich przeprowadzać operacje."
   ],
   "metadata": {
    "collapsed": false,
    "pycharm": {
     "name": "#%% md\n"
    }
   }
  },
  {
   "cell_type": "code",
   "execution_count": 13,
   "outputs": [
    {
     "name": "stdout",
     "output_type": "stream",
     "text": [
      "(1, 'Luís', 'Gonçalves', 'Embraer - Empresa Brasileira de Aeronáutica S.A.', 'Av. Brigadeiro Faria Lima, 2170', 'São José dos Campos', 'SP', 'Brazil', '12227-000', '+55 (12) 3923-5555', '+55 (12) 3923-5566', 'luisg@embraer.com.br', 3)\n",
      "(21, 'Kathy', 'Chase', None, '801 W 4th Street', 'Reno', 'NV', 'USA', '89503', '+1 (775) 223-7665', None, 'kachase@hotmail.com', 5)\n",
      "(41, 'Marc', 'Dubois', None, '11, Place Bellecour', 'Lyon', None, 'France', '69002', '+33 04 78 30 30 30', None, 'marc.dubois@hotmail.com', 5)\n"
     ]
    }
   ],
   "source": [
    "result_proxy = connection.execute(query)\n",
    "while True:\n",
    "    partial_res = result_proxy.fetchmany(20)\n",
    "    if not partial_res:\n",
    "        break\n",
    "\n",
    "    print(partial_res[0])\n",
    "\n",
    "result_proxy.close()"
   ],
   "metadata": {
    "collapsed": false,
    "pycharm": {
     "name": "#%%\n"
    }
   }
  },
  {
   "cell_type": "markdown",
   "source": [
    "### Filtrowanie danych\n",
    "Korzystanie z *SQL Alchemy* ułatwia także wykonywanie złożonych zapytać.\n",
    "Przyjrzyjmy się kilku przykładom."
   ],
   "metadata": {
    "collapsed": false,
    "pycharm": {
     "name": "#%% md\n"
    }
   }
  },
  {
   "cell_type": "markdown",
   "source": [
    "##### WHERE\n",
    "```SELECT * FROM Customers WHERE Country = 'Brazil'```"
   ],
   "metadata": {
    "collapsed": false
   }
  },
  {
   "cell_type": "code",
   "execution_count": null,
   "outputs": [],
   "source": [
    "sqlalchemy.select([customers]).where(customers.columns.Country == \"Brazli\")"
   ],
   "metadata": {
    "collapsed": false,
    "pycharm": {
     "name": "#%%\n"
    }
   }
  },
  {
   "cell_type": "markdown",
   "source": [
    "##### IN\n",
    "```SELECT * FROM Customers WHERE Country IN ('Brazil', 'USA', 'France')```"
   ],
   "metadata": {
    "collapsed": false,
    "pycharm": {
     "name": "#%% md\n"
    }
   }
  },
  {
   "cell_type": "code",
   "execution_count": null,
   "outputs": [],
   "source": [
    "sqlalchemy.select([customers]).where(customers.columns.Country.in_([\"Brazil\", \"USA\", \"France\"]))"
   ],
   "metadata": {
    "collapsed": false,
    "pycharm": {
     "name": "#%%\n"
    }
   }
  },
  {
   "cell_type": "markdown",
   "source": [
    "##### AND, OR, NOT\n",
    "```SELECT * FROM Customers WHERE Country = 'Brazil' AND NOT FirstName = 'Luis'```"
   ],
   "metadata": {
    "collapsed": false
   }
  },
  {
   "cell_type": "code",
   "execution_count": null,
   "outputs": [],
   "source": [
    "sqlalchemy.select([customers]).where(sqlalchemy.and_(customers.columns.Country==\"Brazil\", customers.columns.FirstName!=\"Luis\"))"
   ],
   "metadata": {
    "collapsed": false,
    "pycharm": {
     "name": "#%%\n"
    }
   }
  },
  {
   "cell_type": "markdown",
   "source": [
    "##### ORDER BY\n",
    "```SELECT * FROM Customers ORDER BY LastName DESC, FirstName```"
   ],
   "metadata": {
    "collapsed": false
   }
  },
  {
   "cell_type": "code",
   "execution_count": null,
   "outputs": [],
   "source": [
    "sqlalchemy.select([customers]).order_by(sqlalchemy.desc(customers.columns.LastName),customers.columns.FirstName)"
   ],
   "metadata": {
    "collapsed": false,
    "pycharm": {
     "name": "#%%\n"
    }
   }
  },
  {
   "cell_type": "markdown",
   "source": [
    "##### Funkcje\n",
    "```SELECT Count(*) FROM Customers WHERE Country = 'Brazil'```"
   ],
   "metadata": {
    "collapsed": false
   }
  },
  {
   "cell_type": "code",
   "execution_count": 22,
   "outputs": [
    {
     "data": {
      "text/plain": "<sqlalchemy.sql.selectable.Select at 0x16051a8; Select object>"
     },
     "execution_count": 22,
     "metadata": {},
     "output_type": "execute_result"
    }
   ],
   "source": [
    "sqlalchemy.select([sqlalchemy.func.count()]).where(customers.columns.Country == \"Brazli\")"
   ],
   "metadata": {
    "collapsed": false,
    "pycharm": {
     "name": "#%%\n"
    }
   }
  },
  {
   "cell_type": "markdown",
   "source": [
    "##### GROUP BY\n",
    "```SELECT SUM(UnitPrice) as PriceSum, AlbumId FROM Tracks GROUP BY AlbumId"
   ],
   "metadata": {
    "collapsed": false,
    "pycharm": {
     "name": "#%% md\n"
    }
   }
  },
  {
   "cell_type": "code",
   "execution_count": 23,
   "outputs": [
    {
     "data": {
      "text/plain": "<sqlalchemy.sql.selectable.Select at 0x8d66778; Select object>"
     },
     "execution_count": 23,
     "metadata": {},
     "output_type": "execute_result"
    }
   ],
   "source": [
    "sqlalchemy.select([sqlalchemy.func.sum(tracks.columns.UnitPrice).label(\"PriceSum\"),tracks.columns.AlbumId]).group_by(tracks.columns.AlbumId)"
   ],
   "metadata": {
    "collapsed": false,
    "pycharm": {
     "name": "#%%\n"
    }
   }
  },
  {
   "cell_type": "markdown",
   "source": [
    "##### DISTINCT\n",
    "```SELECT DISTINCT Country FROM Customers```"
   ],
   "metadata": {
    "collapsed": false
   }
  },
  {
   "cell_type": "code",
   "execution_count": null,
   "outputs": [],
   "source": [
    "sqlalchemy.select([customers.columns.Country.distinct])"
   ],
   "metadata": {
    "collapsed": false,
    "pycharm": {
     "name": "#%%\n"
    }
   }
  },
  {
   "cell_type": "markdown",
   "source": [
    "##### JOIN\n",
    "Gdy pobieramy dane z wielu tabel mamy dwie opcje: wykorzystać istniejące relacje,\n",
    "lub manualnie połączyć ze sobą tabele."
   ],
   "metadata": {
    "collapsed": false,
    "pycharm": {
     "name": "#%% md\n"
    }
   }
  },
  {
   "cell_type": "code",
   "execution_count": 25,
   "outputs": [],
   "source": [
    "sqlalchemy.select([tracks.columns.Name, albums.columns.Title])\n",
    "\n",
    "query = sqlalchemy.select([tracks, albums])\n",
    "query = query.select_from(tracks.join(albums, tracks.columns.AlbumId == albums.columns.AlbumId))"
   ],
   "metadata": {
    "collapsed": false,
    "pycharm": {
     "name": "#%%\n"
    }
   }
  },
  {
   "cell_type": "markdown",
   "source": [
    "##### Tworzenie tabel i dodawanie nowych danych"
   ],
   "metadata": {
    "collapsed": false,
    "pycharm": {
     "name": "#%% md\n"
    }
   }
  },
  {
   "cell_type": "code",
   "execution_count": 45,
   "outputs": [
    {
     "data": {
      "text/plain": "<sqlalchemy.engine.result.ResultProxy at 0xe67748>"
     },
     "execution_count": 45,
     "metadata": {},
     "output_type": "execute_result"
    }
   ],
   "source": [
    "temp = sqlalchemy.Table(\"temp\", metadata,\n",
    "                        sqlalchemy.Column(\"Id\", sqlalchemy.Integer()),\n",
    "                        sqlalchemy.Column(\"name\", sqlalchemy.String(255), nullable=False),\n",
    "                        sqlalchemy.Column(\"value\", sqlalchemy.Float())\n",
    "                        )\n",
    "\n",
    "metadata.create_all(engine)\n",
    "\n",
    "query = sqlalchemy.insert(temp).values(Id=1, name=\"first\", value=29.99)\n",
    "connection.execute(query)\n",
    "\n",
    "query = sqlalchemy.insert(temp)\n",
    "val_list = [{'Id':2, 'name':'second', 'value':10.99}, {'Id':3, 'name':'third', 'value': 1.99}]\n",
    "connection.execute(query, val_list)"
   ],
   "metadata": {
    "collapsed": false,
    "pycharm": {
     "name": "#%%\n"
    }
   }
  },
  {
   "cell_type": "markdown",
   "source": [
    "##### Usuwanie tabeli"
   ],
   "metadata": {
    "collapsed": false,
    "pycharm": {
     "name": "#%% md\n"
    }
   }
  },
  {
   "cell_type": "code",
   "execution_count": 39,
   "outputs": [],
   "source": [
    "temp.drop(engine)"
   ],
   "metadata": {
    "collapsed": false,
    "pycharm": {
     "name": "#%%\n"
    }
   }
  },
  {
   "cell_type": "markdown",
   "source": [
    "By ułatwić sobie pracę z danymi możemy skorzystać z biblioteki pandas."
   ],
   "metadata": {
    "collapsed": false,
    "pycharm": {
     "name": "#%% md\n"
    }
   }
  },
  {
   "cell_type": "code",
   "execution_count": 48,
   "outputs": [
    {
     "data": {
      "text/plain": "   CustomerId  FirstName     LastName  \\\n0           1       Luís    Gonçalves   \n1           2     Leonie       Köhler   \n2           3   François     Tremblay   \n3           4      Bjørn       Hansen   \n4           5  František  Wichterlová   \n\n                                            Company  \\\n0  Embraer - Empresa Brasileira de Aeronáutica S.A.   \n1                                              None   \n2                                              None   \n3                                              None   \n4                                  JetBrains s.r.o.   \n\n                           Address                 City State         Country  \\\n0  Av. Brigadeiro Faria Lima, 2170  São José dos Campos    SP          Brazil   \n1          Theodor-Heuss-Straße 34            Stuttgart  None         Germany   \n2                1498 rue Bélanger             Montréal    QC          Canada   \n3                 Ullevålsveien 14                 Oslo  None          Norway   \n4                    Klanova 9/506               Prague  None  Czech Republic   \n\n  PostalCode               Phone                 Fax  \\\n0  12227-000  +55 (12) 3923-5555  +55 (12) 3923-5566   \n1      70174    +49 0711 2842222                None   \n2    H2G 1A7   +1 (514) 721-4711                None   \n3       0171     +47 22 44 22 22                None   \n4      14700    +420 2 4172 5555    +420 2 4172 5555   \n\n                      Email  SupportRepId  \n0      luisg@embraer.com.br             3  \n1     leonekohler@surfeu.de             5  \n2       ftremblay@gmail.com             3  \n3     bjorn.hansen@yahoo.no             4  \n4  frantisekw@jetbrains.com             4  ",
      "text/html": "<div>\n<style scoped>\n    .dataframe tbody tr th:only-of-type {\n        vertical-align: middle;\n    }\n\n    .dataframe tbody tr th {\n        vertical-align: top;\n    }\n\n    .dataframe thead th {\n        text-align: right;\n    }\n</style>\n<table border=\"1\" class=\"dataframe\">\n  <thead>\n    <tr style=\"text-align: right;\">\n      <th></th>\n      <th>CustomerId</th>\n      <th>FirstName</th>\n      <th>LastName</th>\n      <th>Company</th>\n      <th>Address</th>\n      <th>City</th>\n      <th>State</th>\n      <th>Country</th>\n      <th>PostalCode</th>\n      <th>Phone</th>\n      <th>Fax</th>\n      <th>Email</th>\n      <th>SupportRepId</th>\n    </tr>\n  </thead>\n  <tbody>\n    <tr>\n      <th>0</th>\n      <td>1</td>\n      <td>Luís</td>\n      <td>Gonçalves</td>\n      <td>Embraer - Empresa Brasileira de Aeronáutica S.A.</td>\n      <td>Av. Brigadeiro Faria Lima, 2170</td>\n      <td>São José dos Campos</td>\n      <td>SP</td>\n      <td>Brazil</td>\n      <td>12227-000</td>\n      <td>+55 (12) 3923-5555</td>\n      <td>+55 (12) 3923-5566</td>\n      <td>luisg@embraer.com.br</td>\n      <td>3</td>\n    </tr>\n    <tr>\n      <th>1</th>\n      <td>2</td>\n      <td>Leonie</td>\n      <td>Köhler</td>\n      <td>None</td>\n      <td>Theodor-Heuss-Straße 34</td>\n      <td>Stuttgart</td>\n      <td>None</td>\n      <td>Germany</td>\n      <td>70174</td>\n      <td>+49 0711 2842222</td>\n      <td>None</td>\n      <td>leonekohler@surfeu.de</td>\n      <td>5</td>\n    </tr>\n    <tr>\n      <th>2</th>\n      <td>3</td>\n      <td>François</td>\n      <td>Tremblay</td>\n      <td>None</td>\n      <td>1498 rue Bélanger</td>\n      <td>Montréal</td>\n      <td>QC</td>\n      <td>Canada</td>\n      <td>H2G 1A7</td>\n      <td>+1 (514) 721-4711</td>\n      <td>None</td>\n      <td>ftremblay@gmail.com</td>\n      <td>3</td>\n    </tr>\n    <tr>\n      <th>3</th>\n      <td>4</td>\n      <td>Bjørn</td>\n      <td>Hansen</td>\n      <td>None</td>\n      <td>Ullevålsveien 14</td>\n      <td>Oslo</td>\n      <td>None</td>\n      <td>Norway</td>\n      <td>0171</td>\n      <td>+47 22 44 22 22</td>\n      <td>None</td>\n      <td>bjorn.hansen@yahoo.no</td>\n      <td>4</td>\n    </tr>\n    <tr>\n      <th>4</th>\n      <td>5</td>\n      <td>František</td>\n      <td>Wichterlová</td>\n      <td>JetBrains s.r.o.</td>\n      <td>Klanova 9/506</td>\n      <td>Prague</td>\n      <td>None</td>\n      <td>Czech Republic</td>\n      <td>14700</td>\n      <td>+420 2 4172 5555</td>\n      <td>+420 2 4172 5555</td>\n      <td>frantisekw@jetbrains.com</td>\n      <td>4</td>\n    </tr>\n  </tbody>\n</table>\n</div>"
     },
     "execution_count": 48,
     "metadata": {},
     "output_type": "execute_result"
    }
   ],
   "source": [
    "import pandas\n",
    "query = sqlalchemy.select([customers])\n",
    "result_proxy = connection.execute(query)\n",
    "result_set = result_proxy.fetchall()\n",
    "result_proxy.close()\n",
    "data_frame = pandas.DataFrame(result_set)\n",
    "data_frame.columns = result_set[0].keys()\n",
    "data_frame.head(5)"
   ],
   "metadata": {
    "collapsed": false,
    "pycharm": {
     "name": "#%%\n"
    }
   }
  }
 ],
 "metadata": {
  "kernelspec": {
   "display_name": "Python 3",
   "language": "python",
   "name": "python3"
  },
  "language_info": {
   "codemirror_mode": {
    "name": "ipython",
    "version": 2
   },
   "file_extension": ".py",
   "mimetype": "text/x-python",
   "name": "python",
   "nbconvert_exporter": "python",
   "pygments_lexer": "ipython2",
   "version": "2.7.6"
  }
 },
 "nbformat": 4,
 "nbformat_minor": 0
}