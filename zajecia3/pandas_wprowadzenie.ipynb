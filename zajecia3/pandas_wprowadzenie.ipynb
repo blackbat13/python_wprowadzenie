{
 "cells": [
  {
   "cell_type": "markdown",
   "source": [
    "# Krótkie wprowadzenie do pandas"
   ],
   "metadata": {
    "collapsed": false,
    "pycharm": {
     "name": "#%% md\n"
    }
   }
  },
  {
   "cell_type": "markdown",
   "source": [
    "Importujemy bibliotekę pandas i moduł pyplot z matplotlib."
   ],
   "metadata": {
    "collapsed": false,
    "pycharm": {
     "name": "#%% md\n"
    }
   }
  },
  {
   "cell_type": "code",
   "execution_count": 115,
   "metadata": {
    "collapsed": true
   },
   "outputs": [],
   "source": [
    "import pandas as pd\n",
    "import matplotlib.pyplot as plt"
   ]
  },
  {
   "cell_type": "markdown",
   "source": [
    "### Przykład - dane astronomiczne"
   ],
   "metadata": {
    "collapsed": false,
    "pycharm": {
     "name": "#%% md\n"
    }
   }
  },
  {
   "cell_type": "markdown",
   "source": [
    "Odczytujemy dane z pliku *hubble_data.csv* i wyświetlamy kilka pierwszych wierszy."
   ],
   "metadata": {
    "collapsed": false,
    "pycharm": {
     "name": "#%% md\n"
    }
   }
  },
  {
   "cell_type": "code",
   "execution_count": 116,
   "outputs": [
    {
     "data": {
      "text/plain": "   distance  recession_velocity\n0     0.032                 170\n1     0.034                 290\n2     0.214                -130\n3     0.263                 -70\n4     0.275                -185",
      "text/html": "<div>\n<style scoped>\n    .dataframe tbody tr th:only-of-type {\n        vertical-align: middle;\n    }\n\n    .dataframe tbody tr th {\n        vertical-align: top;\n    }\n\n    .dataframe thead th {\n        text-align: right;\n    }\n</style>\n<table border=\"1\" class=\"dataframe\">\n  <thead>\n    <tr style=\"text-align: right;\">\n      <th></th>\n      <th>distance</th>\n      <th>recession_velocity</th>\n    </tr>\n  </thead>\n  <tbody>\n    <tr>\n      <th>0</th>\n      <td>0.032</td>\n      <td>170</td>\n    </tr>\n    <tr>\n      <th>1</th>\n      <td>0.034</td>\n      <td>290</td>\n    </tr>\n    <tr>\n      <th>2</th>\n      <td>0.214</td>\n      <td>-130</td>\n    </tr>\n    <tr>\n      <th>3</th>\n      <td>0.263</td>\n      <td>-70</td>\n    </tr>\n    <tr>\n      <th>4</th>\n      <td>0.275</td>\n      <td>-185</td>\n    </tr>\n  </tbody>\n</table>\n</div>"
     },
     "execution_count": 116,
     "metadata": {},
     "output_type": "execute_result"
    }
   ],
   "source": [
    "data = pd.read_csv(\"hubble_data.csv\")\n",
    "data.head()"
   ],
   "metadata": {
    "collapsed": false,
    "pycharm": {
     "name": "#%%\n"
    }
   }
  },
  {
   "cell_type": "markdown",
   "source": [
    "Możemy także wyświetlić kilka podstawowych statystyk."
   ],
   "metadata": {
    "collapsed": false,
    "pycharm": {
     "name": "#%% md\n"
    }
   }
  },
  {
   "cell_type": "code",
   "execution_count": 117,
   "outputs": [
    {
     "data": {
      "text/plain": "        distance  recession_velocity\ncount  24.000000           24.000000\nmean    0.911375          373.125000\nstd     0.645496          371.254666\nmin     0.032000         -220.000000\n25%     0.406250          165.000000\n50%     0.900000          295.000000\n75%     1.175000          537.500000\nmax     2.000000         1090.000000",
      "text/html": "<div>\n<style scoped>\n    .dataframe tbody tr th:only-of-type {\n        vertical-align: middle;\n    }\n\n    .dataframe tbody tr th {\n        vertical-align: top;\n    }\n\n    .dataframe thead th {\n        text-align: right;\n    }\n</style>\n<table border=\"1\" class=\"dataframe\">\n  <thead>\n    <tr style=\"text-align: right;\">\n      <th></th>\n      <th>distance</th>\n      <th>recession_velocity</th>\n    </tr>\n  </thead>\n  <tbody>\n    <tr>\n      <th>count</th>\n      <td>24.000000</td>\n      <td>24.000000</td>\n    </tr>\n    <tr>\n      <th>mean</th>\n      <td>0.911375</td>\n      <td>373.125000</td>\n    </tr>\n    <tr>\n      <th>std</th>\n      <td>0.645496</td>\n      <td>371.254666</td>\n    </tr>\n    <tr>\n      <th>min</th>\n      <td>0.032000</td>\n      <td>-220.000000</td>\n    </tr>\n    <tr>\n      <th>25%</th>\n      <td>0.406250</td>\n      <td>165.000000</td>\n    </tr>\n    <tr>\n      <th>50%</th>\n      <td>0.900000</td>\n      <td>295.000000</td>\n    </tr>\n    <tr>\n      <th>75%</th>\n      <td>1.175000</td>\n      <td>537.500000</td>\n    </tr>\n    <tr>\n      <th>max</th>\n      <td>2.000000</td>\n      <td>1090.000000</td>\n    </tr>\n  </tbody>\n</table>\n</div>"
     },
     "execution_count": 117,
     "metadata": {},
     "output_type": "execute_result"
    }
   ],
   "source": [
    "data.describe()"
   ],
   "metadata": {
    "collapsed": false,
    "pycharm": {
     "name": "#%%\n"
    }
   }
  },
  {
   "cell_type": "markdown",
   "source": [
    "Tworzymy wykres na podstawie wczytanych danych."
   ],
   "metadata": {
    "collapsed": false,
    "pycharm": {
     "name": "#%% md\n"
    }
   }
  },
  {
   "cell_type": "code",
   "execution_count": 118,
   "outputs": [
    {
     "data": {
      "text/plain": "<Figure size 432x288 with 1 Axes>",
      "image/png": "[encoded data removed]"
     },
     "metadata": {
      "needs_background": "light"
     },
     "output_type": "display_data"
    }
   ],
   "source": [
    "data.plot()\n",
    "plt.show()"
   ],
   "metadata": {
    "collapsed": false,
    "pycharm": {
     "name": "#%%\n"
    }
   }
  },
  {
   "cell_type": "markdown",
   "source": [
    "Pandas domyslnie dodaje indeks do naszych danych, co utrudnia utworzenie sensownego wykresu.\n",
    "Usuwamy więc niepotrzebny indeks i zastepujemy go kolumną *distance*."
   ],
   "metadata": {
    "collapsed": false,
    "pycharm": {
     "name": "#%% md\n"
    }
   }
  },
  {
   "cell_type": "code",
   "execution_count": 119,
   "outputs": [
    {
     "data": {
      "text/plain": "          recession_velocity\ndistance                    \n0.032                    170\n0.034                    290\n0.214                   -130\n0.263                    -70\n0.275                   -185",
      "text/html": "<div>\n<style scoped>\n    .dataframe tbody tr th:only-of-type {\n        vertical-align: middle;\n    }\n\n    .dataframe tbody tr th {\n        vertical-align: top;\n    }\n\n    .dataframe thead th {\n        text-align: right;\n    }\n</style>\n<table border=\"1\" class=\"dataframe\">\n  <thead>\n    <tr style=\"text-align: right;\">\n      <th></th>\n      <th>recession_velocity</th>\n    </tr>\n    <tr>\n      <th>distance</th>\n      <th></th>\n    </tr>\n  </thead>\n  <tbody>\n    <tr>\n      <th>0.032</th>\n      <td>170</td>\n    </tr>\n    <tr>\n      <th>0.034</th>\n      <td>290</td>\n    </tr>\n    <tr>\n      <th>0.214</th>\n      <td>-130</td>\n    </tr>\n    <tr>\n      <th>0.263</th>\n      <td>-70</td>\n    </tr>\n    <tr>\n      <th>0.275</th>\n      <td>-185</td>\n    </tr>\n  </tbody>\n</table>\n</div>"
     },
     "execution_count": 119,
     "metadata": {},
     "output_type": "execute_result"
    }
   ],
   "source": [
    "data.set_index(\"distance\", inplace= True)\n",
    "data.head()"
   ],
   "metadata": {
    "collapsed": false,
    "pycharm": {
     "name": "#%%\n"
    }
   }
  },
  {
   "cell_type": "markdown",
   "source": [
    "Ponownie tworzymy wykres i wyświetlamy go."
   ],
   "metadata": {
    "collapsed": false,
    "pycharm": {
     "name": "#%% md\n"
    }
   }
  },
  {
   "cell_type": "code",
   "execution_count": 120,
   "outputs": [
    {
     "data": {
      "text/plain": "<Figure size 432x288 with 1 Axes>",
      "image/png": "[encoded data removed]"
     },
     "metadata": {
      "needs_background": "light"
     },
     "output_type": "display_data"
    }
   ],
   "source": [
    "data.plot()\n",
    "plt.show()"
   ],
   "metadata": {
    "collapsed": false,
    "pycharm": {
     "name": "#%%\n"
    }
   }
  },
  {
   "cell_type": "markdown",
   "source": [
    "### Przykład - dane o wzgórzach"
   ],
   "metadata": {
    "collapsed": false,
    "pycharm": {
     "name": "#%% md\n"
    }
   }
  },
  {
   "cell_type": "code",
   "execution_count": 121,
   "outputs": [
    {
     "data": {
      "text/plain": "                    Hill Name  Height   Latitude  Longitude    Osgrid\n0       A' Bhuidheanach Bheag   936.0  56.870342  -4.199001  NN660775\n1               A' Chailleach   997.0  57.693800  -5.128715  NH136714\n2               A' Chailleach   929.2  57.109564  -4.179285  NH681041\n3  A' Chraileag (A' Chralaig)  1120.0  57.184186  -5.154837  NH094147\n4             A' Ghlas-bheinn   918.0  57.255090  -5.303687  NH008231",
      "text/html": "<div>\n<style scoped>\n    .dataframe tbody tr th:only-of-type {\n        vertical-align: middle;\n    }\n\n    .dataframe tbody tr th {\n        vertical-align: top;\n    }\n\n    .dataframe thead th {\n        text-align: right;\n    }\n</style>\n<table border=\"1\" class=\"dataframe\">\n  <thead>\n    <tr style=\"text-align: right;\">\n      <th></th>\n      <th>Hill Name</th>\n      <th>Height</th>\n      <th>Latitude</th>\n      <th>Longitude</th>\n      <th>Osgrid</th>\n    </tr>\n  </thead>\n  <tbody>\n    <tr>\n      <th>0</th>\n      <td>A' Bhuidheanach Bheag</td>\n      <td>936.0</td>\n      <td>56.870342</td>\n      <td>-4.199001</td>\n      <td>NN660775</td>\n    </tr>\n    <tr>\n      <th>1</th>\n      <td>A' Chailleach</td>\n      <td>997.0</td>\n      <td>57.693800</td>\n      <td>-5.128715</td>\n      <td>NH136714</td>\n    </tr>\n    <tr>\n      <th>2</th>\n      <td>A' Chailleach</td>\n      <td>929.2</td>\n      <td>57.109564</td>\n      <td>-4.179285</td>\n      <td>NH681041</td>\n    </tr>\n    <tr>\n      <th>3</th>\n      <td>A' Chraileag (A' Chralaig)</td>\n      <td>1120.0</td>\n      <td>57.184186</td>\n      <td>-5.154837</td>\n      <td>NH094147</td>\n    </tr>\n    <tr>\n      <th>4</th>\n      <td>A' Ghlas-bheinn</td>\n      <td>918.0</td>\n      <td>57.255090</td>\n      <td>-5.303687</td>\n      <td>NH008231</td>\n    </tr>\n  </tbody>\n</table>\n</div>"
     },
     "execution_count": 121,
     "metadata": {},
     "output_type": "execute_result"
    }
   ],
   "source": [
    "dataframe = pd.read_csv(\"scottish_hills.csv\")\n",
    "dataframe.head()"
   ],
   "metadata": {
    "collapsed": false,
    "pycharm": {
     "name": "#%%\n"
    }
   }
  },
  {
   "cell_type": "markdown",
   "source": [
    "Jako oś x bierzemy wysokość wzgórza, a jako y szerokość geograficzną."
   ],
   "metadata": {
    "collapsed": false,
    "pycharm": {
     "name": "#%% md\n"
    }
   }
  },
  {
   "cell_type": "code",
   "execution_count": 122,
   "outputs": [],
   "source": [
    "x= dataframe.Height\n",
    "y = dataframe.Latitude"
   ],
   "metadata": {
    "collapsed": false,
    "pycharm": {
     "name": "#%%\n"
    }
   }
  },
  {
   "cell_type": "markdown",
   "source": [
    "Tworzymy wykres punktowy i wyświetlamy go."
   ],
   "metadata": {
    "collapsed": false,
    "pycharm": {
     "name": "#%% md\n"
    }
   }
  },
  {
   "cell_type": "code",
   "execution_count": 123,
   "outputs": [
    {
     "data": {
      "text/plain": "<Figure size 432x288 with 1 Axes>",
      "image/png": "[encoded data removed]"
     },
     "metadata": {
      "needs_background": "light"
     },
     "output_type": "display_data"
    }
   ],
   "source": [
    "plt.scatter(x, y)\n",
    "plt.show()  # or plt.savefig(\"name.png\")"
   ],
   "metadata": {
    "collapsed": false,
    "pycharm": {
     "name": "#%%\n"
    }
   }
  },
  {
   "cell_type": "markdown",
   "source": [
    "### Przykład - dane Covid z USA"
   ],
   "metadata": {
    "collapsed": false,
    "pycharm": {
     "name": "#%% md\n"
    }
   }
  },
  {
   "cell_type": "code",
   "execution_count": 124,
   "outputs": [
    {
     "data": {
      "text/plain": "         date state dataQualityGrade   death  deathConfirmed  deathIncrease  \\\n0  2020-11-20    AK                A   101.0           101.0              0   \n1  2020-11-20    AL                A  3451.0          3148.0             32   \n2  2020-11-20    AR               A+  2321.0          2125.0             24   \n3  2020-11-20    AS                D     0.0             NaN              0   \n4  2020-11-20    AZ               A+  6427.0          5961.0             43   \n\n   deathProbable  hospitalized  hospitalizedCumulative  hospitalizedCurrently  \\\n0            NaN         606.0                   606.0                  127.0   \n1          303.0       23449.0                 23449.0                 1329.0   \n2          196.0        8353.0                  8353.0                  928.0   \n3            NaN           NaN                     NaN                    NaN   \n4          466.0       24052.0                 24052.0                 1835.0   \n\n   ...  totalTestResults  totalTestResultsIncrease  totalTestsAntibody  \\\n0  ...          904712.0                      5913                 NaN   \n1  ...         1508212.0                     11495                 NaN   \n2  ...         1565873.0                     13423                 NaN   \n3  ...            1988.0                         0                 NaN   \n4  ...         2063889.0                     26601            355101.0   \n\n   totalTestsAntigen  totalTestsPeopleAntibody  totalTestsPeopleAntigen  \\\n0                NaN                       NaN                      NaN   \n1                NaN                   69249.0                      NaN   \n2            21856.0                       NaN                 112784.0   \n3                NaN                       NaN                      NaN   \n4                NaN                       NaN                      NaN   \n\n   totalTestsPeopleViral  totalTestsPeopleViralIncrease  totalTestsViral  \\\n0                    NaN                              0         904712.0   \n1                    NaN                              0        1508212.0   \n2                    NaN                              0        1565873.0   \n3                    NaN                              0           1988.0   \n4              2063889.0                          26601              NaN   \n\n   totalTestsViralIncrease  \n0                     5913  \n1                    11495  \n2                    13423  \n3                        0  \n4                        0  \n\n[5 rows x 42 columns]",
      "text/html": "<div>\n<style scoped>\n    .dataframe tbody tr th:only-of-type {\n        vertical-align: middle;\n    }\n\n    .dataframe tbody tr th {\n        vertical-align: top;\n    }\n\n    .dataframe thead th {\n        text-align: right;\n    }\n</style>\n<table border=\"1\" class=\"dataframe\">\n  <thead>\n    <tr style=\"text-align: right;\">\n      <th></th>\n      <th>date</th>\n      <th>state</th>\n      <th>dataQualityGrade</th>\n      <th>death</th>\n      <th>deathConfirmed</th>\n      <th>deathIncrease</th>\n      <th>deathProbable</th>\n      <th>hospitalized</th>\n      <th>hospitalizedCumulative</th>\n      <th>hospitalizedCurrently</th>\n      <th>...</th>\n      <th>totalTestResults</th>\n      <th>totalTestResultsIncrease</th>\n      <th>totalTestsAntibody</th>\n      <th>totalTestsAntigen</th>\n      <th>totalTestsPeopleAntibody</th>\n      <th>totalTestsPeopleAntigen</th>\n      <th>totalTestsPeopleViral</th>\n      <th>totalTestsPeopleViralIncrease</th>\n      <th>totalTestsViral</th>\n      <th>totalTestsViralIncrease</th>\n    </tr>\n  </thead>\n  <tbody>\n    <tr>\n      <th>0</th>\n      <td>2020-11-20</td>\n      <td>AK</td>\n      <td>A</td>\n      <td>101.0</td>\n      <td>101.0</td>\n      <td>0</td>\n      <td>NaN</td>\n      <td>606.0</td>\n      <td>606.0</td>\n      <td>127.0</td>\n      <td>...</td>\n      <td>904712.0</td>\n      <td>5913</td>\n      <td>NaN</td>\n      <td>NaN</td>\n      <td>NaN</td>\n      <td>NaN</td>\n      <td>NaN</td>\n      <td>0</td>\n      <td>904712.0</td>\n      <td>5913</td>\n    </tr>\n    <tr>\n      <th>1</th>\n      <td>2020-11-20</td>\n      <td>AL</td>\n      <td>A</td>\n      <td>3451.0</td>\n      <td>3148.0</td>\n      <td>32</td>\n      <td>303.0</td>\n      <td>23449.0</td>\n      <td>23449.0</td>\n      <td>1329.0</td>\n      <td>...</td>\n      <td>1508212.0</td>\n      <td>11495</td>\n      <td>NaN</td>\n      <td>NaN</td>\n      <td>69249.0</td>\n      <td>NaN</td>\n      <td>NaN</td>\n      <td>0</td>\n      <td>1508212.0</td>\n      <td>11495</td>\n    </tr>\n    <tr>\n      <th>2</th>\n      <td>2020-11-20</td>\n      <td>AR</td>\n      <td>A+</td>\n      <td>2321.0</td>\n      <td>2125.0</td>\n      <td>24</td>\n      <td>196.0</td>\n      <td>8353.0</td>\n      <td>8353.0</td>\n      <td>928.0</td>\n      <td>...</td>\n      <td>1565873.0</td>\n      <td>13423</td>\n      <td>NaN</td>\n      <td>21856.0</td>\n      <td>NaN</td>\n      <td>112784.0</td>\n      <td>NaN</td>\n      <td>0</td>\n      <td>1565873.0</td>\n      <td>13423</td>\n    </tr>\n    <tr>\n      <th>3</th>\n      <td>2020-11-20</td>\n      <td>AS</td>\n      <td>D</td>\n      <td>0.0</td>\n      <td>NaN</td>\n      <td>0</td>\n      <td>NaN</td>\n      <td>NaN</td>\n      <td>NaN</td>\n      <td>NaN</td>\n      <td>...</td>\n      <td>1988.0</td>\n      <td>0</td>\n      <td>NaN</td>\n      <td>NaN</td>\n      <td>NaN</td>\n      <td>NaN</td>\n      <td>NaN</td>\n      <td>0</td>\n      <td>1988.0</td>\n      <td>0</td>\n    </tr>\n    <tr>\n      <th>4</th>\n      <td>2020-11-20</td>\n      <td>AZ</td>\n      <td>A+</td>\n      <td>6427.0</td>\n      <td>5961.0</td>\n      <td>43</td>\n      <td>466.0</td>\n      <td>24052.0</td>\n      <td>24052.0</td>\n      <td>1835.0</td>\n      <td>...</td>\n      <td>2063889.0</td>\n      <td>26601</td>\n      <td>355101.0</td>\n      <td>NaN</td>\n      <td>NaN</td>\n      <td>NaN</td>\n      <td>2063889.0</td>\n      <td>26601</td>\n      <td>NaN</td>\n      <td>0</td>\n    </tr>\n  </tbody>\n</table>\n<p>5 rows × 42 columns</p>\n</div>"
     },
     "execution_count": 124,
     "metadata": {},
     "output_type": "execute_result"
    }
   ],
   "source": [
    "covid_data = pd.read_csv(\"all-states-history.csv\")\n",
    "covid_data.head()"
   ],
   "metadata": {
    "collapsed": false,
    "pycharm": {
     "name": "#%%\n"
    }
   }
  },
  {
   "cell_type": "markdown",
   "source": [
    "Filtrujemy dane wybierając tylko te dotyczące konkretnego stanu."
   ],
   "metadata": {
    "collapsed": false,
    "pycharm": {
     "name": "#%% md\n"
    }
   }
  },
  {
   "cell_type": "code",
   "execution_count": 125,
   "outputs": [
    {
     "data": {
      "text/plain": "           date state dataQualityGrade  death  deathConfirmed  deathIncrease  \\\n0    2020-11-20    AK                A  101.0           101.0              0   \n56   2020-11-19    AK                A  101.0           101.0              1   \n112  2020-11-18    AK                A  100.0           100.0              0   \n168  2020-11-17    AK                A  100.0           100.0              2   \n224  2020-11-16    AK                A   98.0            98.0              0   \n\n     deathProbable  hospitalized  hospitalizedCumulative  \\\n0              NaN         606.0                   606.0   \n56             NaN         593.0                   593.0   \n112            NaN         584.0                   584.0   \n168            NaN         562.0                   562.0   \n224            NaN         559.0                   559.0   \n\n     hospitalizedCurrently  ...  totalTestResults  totalTestResultsIncrease  \\\n0                    127.0  ...          904712.0                      5913   \n56                   139.0  ...          898799.0                     13241   \n112                  147.0  ...          885558.0                      6936   \n168                  136.0  ...          878622.0                      6275   \n224                  143.0  ...          872347.0                      4965   \n\n     totalTestsAntibody  totalTestsAntigen  totalTestsPeopleAntibody  \\\n0                   NaN                NaN                       NaN   \n56                  NaN                NaN                       NaN   \n112                 NaN                NaN                       NaN   \n168                 NaN                NaN                       NaN   \n224                 NaN                NaN                       NaN   \n\n     totalTestsPeopleAntigen  totalTestsPeopleViral  \\\n0                        NaN                    NaN   \n56                       NaN                    NaN   \n112                      NaN                    NaN   \n168                      NaN                    NaN   \n224                      NaN                    NaN   \n\n     totalTestsPeopleViralIncrease  totalTestsViral  totalTestsViralIncrease  \n0                                0         904712.0                     5913  \n56                               0         898799.0                    13241  \n112                              0         885558.0                     6936  \n168                              0         878622.0                     6275  \n224                              0         872347.0                     4965  \n\n[5 rows x 42 columns]",
      "text/html": "<div>\n<style scoped>\n    .dataframe tbody tr th:only-of-type {\n        vertical-align: middle;\n    }\n\n    .dataframe tbody tr th {\n        vertical-align: top;\n    }\n\n    .dataframe thead th {\n        text-align: right;\n    }\n</style>\n<table border=\"1\" class=\"dataframe\">\n  <thead>\n    <tr style=\"text-align: right;\">\n      <th></th>\n      <th>date</th>\n      <th>state</th>\n      <th>dataQualityGrade</th>\n      <th>death</th>\n      <th>deathConfirmed</th>\n      <th>deathIncrease</th>\n      <th>deathProbable</th>\n      <th>hospitalized</th>\n      <th>hospitalizedCumulative</th>\n      <th>hospitalizedCurrently</th>\n      <th>...</th>\n      <th>totalTestResults</th>\n      <th>totalTestResultsIncrease</th>\n      <th>totalTestsAntibody</th>\n      <th>totalTestsAntigen</th>\n      <th>totalTestsPeopleAntibody</th>\n      <th>totalTestsPeopleAntigen</th>\n      <th>totalTestsPeopleViral</th>\n      <th>totalTestsPeopleViralIncrease</th>\n      <th>totalTestsViral</th>\n      <th>totalTestsViralIncrease</th>\n    </tr>\n  </thead>\n  <tbody>\n    <tr>\n      <th>0</th>\n      <td>2020-11-20</td>\n      <td>AK</td>\n      <td>A</td>\n      <td>101.0</td>\n      <td>101.0</td>\n      <td>0</td>\n      <td>NaN</td>\n      <td>606.0</td>\n      <td>606.0</td>\n      <td>127.0</td>\n      <td>...</td>\n      <td>904712.0</td>\n      <td>5913</td>\n      <td>NaN</td>\n      <td>NaN</td>\n      <td>NaN</td>\n      <td>NaN</td>\n      <td>NaN</td>\n      <td>0</td>\n      <td>904712.0</td>\n      <td>5913</td>\n    </tr>\n    <tr>\n      <th>56</th>\n      <td>2020-11-19</td>\n      <td>AK</td>\n      <td>A</td>\n      <td>101.0</td>\n      <td>101.0</td>\n      <td>1</td>\n      <td>NaN</td>\n      <td>593.0</td>\n      <td>593.0</td>\n      <td>139.0</td>\n      <td>...</td>\n      <td>898799.0</td>\n      <td>13241</td>\n      <td>NaN</td>\n      <td>NaN</td>\n      <td>NaN</td>\n      <td>NaN</td>\n      <td>NaN</td>\n      <td>0</td>\n      <td>898799.0</td>\n      <td>13241</td>\n    </tr>\n    <tr>\n      <th>112</th>\n      <td>2020-11-18</td>\n      <td>AK</td>\n      <td>A</td>\n      <td>100.0</td>\n      <td>100.0</td>\n      <td>0</td>\n      <td>NaN</td>\n      <td>584.0</td>\n      <td>584.0</td>\n      <td>147.0</td>\n      <td>...</td>\n      <td>885558.0</td>\n      <td>6936</td>\n      <td>NaN</td>\n      <td>NaN</td>\n      <td>NaN</td>\n      <td>NaN</td>\n      <td>NaN</td>\n      <td>0</td>\n      <td>885558.0</td>\n      <td>6936</td>\n    </tr>\n    <tr>\n      <th>168</th>\n      <td>2020-11-17</td>\n      <td>AK</td>\n      <td>A</td>\n      <td>100.0</td>\n      <td>100.0</td>\n      <td>2</td>\n      <td>NaN</td>\n      <td>562.0</td>\n      <td>562.0</td>\n      <td>136.0</td>\n      <td>...</td>\n      <td>878622.0</td>\n      <td>6275</td>\n      <td>NaN</td>\n      <td>NaN</td>\n      <td>NaN</td>\n      <td>NaN</td>\n      <td>NaN</td>\n      <td>0</td>\n      <td>878622.0</td>\n      <td>6275</td>\n    </tr>\n    <tr>\n      <th>224</th>\n      <td>2020-11-16</td>\n      <td>AK</td>\n      <td>A</td>\n      <td>98.0</td>\n      <td>98.0</td>\n      <td>0</td>\n      <td>NaN</td>\n      <td>559.0</td>\n      <td>559.0</td>\n      <td>143.0</td>\n      <td>...</td>\n      <td>872347.0</td>\n      <td>4965</td>\n      <td>NaN</td>\n      <td>NaN</td>\n      <td>NaN</td>\n      <td>NaN</td>\n      <td>NaN</td>\n      <td>0</td>\n      <td>872347.0</td>\n      <td>4965</td>\n    </tr>\n  </tbody>\n</table>\n<p>5 rows × 42 columns</p>\n</div>"
     },
     "execution_count": 125,
     "metadata": {},
     "output_type": "execute_result"
    }
   ],
   "source": [
    "dataframe = covid_data.query(\"state == 'AK'\")\n",
    "dataframe.head()"
   ],
   "metadata": {
    "collapsed": false,
    "pycharm": {
     "name": "#%%\n"
    }
   }
  },
  {
   "cell_type": "markdown",
   "source": [
    "Tworzymy wykres na podstawie początkowych danych."
   ],
   "metadata": {
    "collapsed": false,
    "pycharm": {
     "name": "#%% md\n"
    }
   }
  },
  {
   "cell_type": "code",
   "execution_count": 126,
   "outputs": [
    {
     "data": {
      "text/plain": "<Figure size 432x288 with 1 Axes>",
      "image/png": "[encoded data removed]"
     },
     "metadata": {
      "needs_background": "light"
     },
     "output_type": "display_data"
    }
   ],
   "source": [
    "x = dataframe.date[:10]\n",
    "y = dataframe.death[:10]\n",
    "plt.plot(x, y)\n",
    "plt.show()"
   ],
   "metadata": {
    "collapsed": false,
    "pycharm": {
     "name": "#%%\n"
    }
   }
  },
  {
   "cell_type": "markdown",
   "source": [
    "Filtrujemy dane zostawiając tylko dwie kolumny."
   ],
   "metadata": {
    "collapsed": false,
    "pycharm": {
     "name": "#%% md\n"
    }
   }
  },
  {
   "cell_type": "code",
   "execution_count": 127,
   "outputs": [
    {
     "data": {
      "text/plain": "  state   death\n0    AK   101.0\n1    AL  3451.0\n2    AR  2321.0\n3    AS     0.0\n4    AZ  6427.0",
      "text/html": "<div>\n<style scoped>\n    .dataframe tbody tr th:only-of-type {\n        vertical-align: middle;\n    }\n\n    .dataframe tbody tr th {\n        vertical-align: top;\n    }\n\n    .dataframe thead th {\n        text-align: right;\n    }\n</style>\n<table border=\"1\" class=\"dataframe\">\n  <thead>\n    <tr style=\"text-align: right;\">\n      <th></th>\n      <th>state</th>\n      <th>death</th>\n    </tr>\n  </thead>\n  <tbody>\n    <tr>\n      <th>0</th>\n      <td>AK</td>\n      <td>101.0</td>\n    </tr>\n    <tr>\n      <th>1</th>\n      <td>AL</td>\n      <td>3451.0</td>\n    </tr>\n    <tr>\n      <th>2</th>\n      <td>AR</td>\n      <td>2321.0</td>\n    </tr>\n    <tr>\n      <th>3</th>\n      <td>AS</td>\n      <td>0.0</td>\n    </tr>\n    <tr>\n      <th>4</th>\n      <td>AZ</td>\n      <td>6427.0</td>\n    </tr>\n  </tbody>\n</table>\n</div>"
     },
     "execution_count": 127,
     "metadata": {},
     "output_type": "execute_result"
    }
   ],
   "source": [
    "dataframe = covid_data.filter(items=[\"state\", \"death\"])\n",
    "dataframe.head()"
   ],
   "metadata": {
    "collapsed": false,
    "pycharm": {
     "name": "#%%\n"
    }
   }
  },
  {
   "cell_type": "markdown",
   "source": [
    "Grupujemy dane po stanach i sumujemy."
   ],
   "metadata": {
    "collapsed": false,
    "pycharm": {
     "name": "#%% md\n"
    }
   }
  },
  {
   "cell_type": "code",
   "execution_count": 128,
   "outputs": [
    {
     "data": {
      "text/plain": "          death\nstate          \nAK       7576.0\nAL     359044.0\nAR     166033.0\nAS          0.0\nAZ     744989.0",
      "text/html": "<div>\n<style scoped>\n    .dataframe tbody tr th:only-of-type {\n        vertical-align: middle;\n    }\n\n    .dataframe tbody tr th {\n        vertical-align: top;\n    }\n\n    .dataframe thead th {\n        text-align: right;\n    }\n</style>\n<table border=\"1\" class=\"dataframe\">\n  <thead>\n    <tr style=\"text-align: right;\">\n      <th></th>\n      <th>death</th>\n    </tr>\n    <tr>\n      <th>state</th>\n      <th></th>\n    </tr>\n  </thead>\n  <tbody>\n    <tr>\n      <th>AK</th>\n      <td>7576.0</td>\n    </tr>\n    <tr>\n      <th>AL</th>\n      <td>359044.0</td>\n    </tr>\n    <tr>\n      <th>AR</th>\n      <td>166033.0</td>\n    </tr>\n    <tr>\n      <th>AS</th>\n      <td>0.0</td>\n    </tr>\n    <tr>\n      <th>AZ</th>\n      <td>744989.0</td>\n    </tr>\n  </tbody>\n</table>\n</div>"
     },
     "execution_count": 128,
     "metadata": {},
     "output_type": "execute_result"
    }
   ],
   "source": [
    "dataframe = dataframe.groupby(\"state\").sum()\n",
    "dataframe.head()"
   ],
   "metadata": {
    "collapsed": false,
    "pycharm": {
     "name": "#%%\n"
    }
   }
  },
  {
   "cell_type": "markdown",
   "source": [
    "Tworzymy wykres kolumnowy."
   ],
   "metadata": {
    "collapsed": false,
    "pycharm": {
     "name": "#%% md\n"
    }
   }
  },
  {
   "cell_type": "code",
   "execution_count": 129,
   "outputs": [
    {
     "data": {
      "text/plain": "<Figure size 432x288 with 1 Axes>",
      "image/png": "[encoded data removed]"
     },
     "metadata": {
      "needs_background": "light"
     },
     "output_type": "display_data"
    }
   ],
   "source": [
    "dataframe.plot(kind=\"bar\")\n",
    "plt.show()"
   ],
   "metadata": {
    "collapsed": false,
    "pycharm": {
     "name": "#%%\n"
    }
   }
  }
 ],
 "metadata": {
  "kernelspec": {
   "display_name": "Python 3",
   "language": "python",
   "name": "python3"
  },
  "language_info": {
   "codemirror_mode": {
    "name": "ipython",
    "version": 2
   },
   "file_extension": ".py",
   "mimetype": "text/x-python",
   "name": "python",
   "nbconvert_exporter": "python",
   "pygments_lexer": "ipython2",
   "version": "2.7.6"
  }
 },
 "nbformat": 4,
 "nbformat_minor": 0
}